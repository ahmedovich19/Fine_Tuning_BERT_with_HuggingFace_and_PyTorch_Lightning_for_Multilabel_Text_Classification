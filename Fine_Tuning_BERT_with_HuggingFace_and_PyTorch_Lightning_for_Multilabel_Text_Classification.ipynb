{
  "nbformat": 4,
  "nbformat_minor": 0,
  "metadata": {
    "accelerator": "GPU",
    "colab": {
      "name": "Fine-Tuning BERT with HuggingFace and PyTorch Lightning for Multilabel Text Classification.ipynb",
      "provenance": [],
      "collapsed_sections": [],
      "mount_file_id": "1pUHjkSt65jIY93BfmXqwI599OfacFxl2",
      "authorship_tag": "ABX9TyNYqu9AzNnBxzAMTgNwVQdl",
      "include_colab_link": true
    },
    "kernelspec": {
      "display_name": "Python 3",
      "name": "python3"
    },
    "widgets": {
      "application/vnd.jupyter.widget-state+json": {
        "dd754c57e77e464cbb3aa300ef6f1413": {
          "model_module": "@jupyter-widgets/controls",
          "model_name": "HBoxModel",
          "state": {
            "_view_name": "HBoxView",
            "_dom_classes": [],
            "_model_name": "HBoxModel",
            "_view_module": "@jupyter-widgets/controls",
            "_model_module_version": "1.5.0",
            "_view_count": null,
            "_view_module_version": "1.5.0",
            "box_style": "",
            "layout": "IPY_MODEL_45739d4408e44eadad4311c623d69fd0",
            "_model_module": "@jupyter-widgets/controls",
            "children": [
              "IPY_MODEL_6bf27cd71cde4d4a82d61ea5cc6b314f",
              "IPY_MODEL_921da3cf0914441d968915ccd1db6e41"
            ]
          }
        },
        "45739d4408e44eadad4311c623d69fd0": {
          "model_module": "@jupyter-widgets/base",
          "model_name": "LayoutModel",
          "state": {
            "_view_name": "LayoutView",
            "grid_template_rows": null,
            "right": null,
            "justify_content": null,
            "_view_module": "@jupyter-widgets/base",
            "overflow": null,
            "_model_module_version": "1.2.0",
            "_view_count": null,
            "flex_flow": null,
            "width": null,
            "min_width": null,
            "border": null,
            "align_items": null,
            "bottom": null,
            "_model_module": "@jupyter-widgets/base",
            "top": null,
            "grid_column": null,
            "overflow_y": null,
            "overflow_x": null,
            "grid_auto_flow": null,
            "grid_area": null,
            "grid_template_columns": null,
            "flex": null,
            "_model_name": "LayoutModel",
            "justify_items": null,
            "grid_row": null,
            "max_height": null,
            "align_content": null,
            "visibility": null,
            "align_self": null,
            "height": null,
            "min_height": null,
            "padding": null,
            "grid_auto_rows": null,
            "grid_gap": null,
            "max_width": null,
            "order": null,
            "_view_module_version": "1.2.0",
            "grid_template_areas": null,
            "object_position": null,
            "object_fit": null,
            "grid_auto_columns": null,
            "margin": null,
            "display": null,
            "left": null
          }
        },
        "6bf27cd71cde4d4a82d61ea5cc6b314f": {
          "model_module": "@jupyter-widgets/controls",
          "model_name": "FloatProgressModel",
          "state": {
            "_view_name": "ProgressView",
            "style": "IPY_MODEL_9a5c14c74c09454d84152269c3b1e4ff",
            "_dom_classes": [],
            "description": "Downloading: 100%",
            "_model_name": "FloatProgressModel",
            "bar_style": "success",
            "max": 213450,
            "_view_module": "@jupyter-widgets/controls",
            "_model_module_version": "1.5.0",
            "value": 213450,
            "_view_count": null,
            "_view_module_version": "1.5.0",
            "orientation": "horizontal",
            "min": 0,
            "description_tooltip": null,
            "_model_module": "@jupyter-widgets/controls",
            "layout": "IPY_MODEL_adf3667a05f3471dbe85aa178e216671"
          }
        },
        "921da3cf0914441d968915ccd1db6e41": {
          "model_module": "@jupyter-widgets/controls",
          "model_name": "HTMLModel",
          "state": {
            "_view_name": "HTMLView",
            "style": "IPY_MODEL_cf1630d484ed43e3941f0ca447b641c5",
            "_dom_classes": [],
            "description": "",
            "_model_name": "HTMLModel",
            "placeholder": "​",
            "_view_module": "@jupyter-widgets/controls",
            "_model_module_version": "1.5.0",
            "value": " 213k/213k [00:00&lt;00:00, 716kB/s]",
            "_view_count": null,
            "_view_module_version": "1.5.0",
            "description_tooltip": null,
            "_model_module": "@jupyter-widgets/controls",
            "layout": "IPY_MODEL_425799374e2d401b82b94b1b70fba31f"
          }
        },
        "9a5c14c74c09454d84152269c3b1e4ff": {
          "model_module": "@jupyter-widgets/controls",
          "model_name": "ProgressStyleModel",
          "state": {
            "_view_name": "StyleView",
            "_model_name": "ProgressStyleModel",
            "description_width": "initial",
            "_view_module": "@jupyter-widgets/base",
            "_model_module_version": "1.5.0",
            "_view_count": null,
            "_view_module_version": "1.2.0",
            "bar_color": null,
            "_model_module": "@jupyter-widgets/controls"
          }
        },
        "adf3667a05f3471dbe85aa178e216671": {
          "model_module": "@jupyter-widgets/base",
          "model_name": "LayoutModel",
          "state": {
            "_view_name": "LayoutView",
            "grid_template_rows": null,
            "right": null,
            "justify_content": null,
            "_view_module": "@jupyter-widgets/base",
            "overflow": null,
            "_model_module_version": "1.2.0",
            "_view_count": null,
            "flex_flow": null,
            "width": null,
            "min_width": null,
            "border": null,
            "align_items": null,
            "bottom": null,
            "_model_module": "@jupyter-widgets/base",
            "top": null,
            "grid_column": null,
            "overflow_y": null,
            "overflow_x": null,
            "grid_auto_flow": null,
            "grid_area": null,
            "grid_template_columns": null,
            "flex": null,
            "_model_name": "LayoutModel",
            "justify_items": null,
            "grid_row": null,
            "max_height": null,
            "align_content": null,
            "visibility": null,
            "align_self": null,
            "height": null,
            "min_height": null,
            "padding": null,
            "grid_auto_rows": null,
            "grid_gap": null,
            "max_width": null,
            "order": null,
            "_view_module_version": "1.2.0",
            "grid_template_areas": null,
            "object_position": null,
            "object_fit": null,
            "grid_auto_columns": null,
            "margin": null,
            "display": null,
            "left": null
          }
        },
        "cf1630d484ed43e3941f0ca447b641c5": {
          "model_module": "@jupyter-widgets/controls",
          "model_name": "DescriptionStyleModel",
          "state": {
            "_view_name": "StyleView",
            "_model_name": "DescriptionStyleModel",
            "description_width": "",
            "_view_module": "@jupyter-widgets/base",
            "_model_module_version": "1.5.0",
            "_view_count": null,
            "_view_module_version": "1.2.0",
            "_model_module": "@jupyter-widgets/controls"
          }
        },
        "425799374e2d401b82b94b1b70fba31f": {
          "model_module": "@jupyter-widgets/base",
          "model_name": "LayoutModel",
          "state": {
            "_view_name": "LayoutView",
            "grid_template_rows": null,
            "right": null,
            "justify_content": null,
            "_view_module": "@jupyter-widgets/base",
            "overflow": null,
            "_model_module_version": "1.2.0",
            "_view_count": null,
            "flex_flow": null,
            "width": null,
            "min_width": null,
            "border": null,
            "align_items": null,
            "bottom": null,
            "_model_module": "@jupyter-widgets/base",
            "top": null,
            "grid_column": null,
            "overflow_y": null,
            "overflow_x": null,
            "grid_auto_flow": null,
            "grid_area": null,
            "grid_template_columns": null,
            "flex": null,
            "_model_name": "LayoutModel",
            "justify_items": null,
            "grid_row": null,
            "max_height": null,
            "align_content": null,
            "visibility": null,
            "align_self": null,
            "height": null,
            "min_height": null,
            "padding": null,
            "grid_auto_rows": null,
            "grid_gap": null,
            "max_width": null,
            "order": null,
            "_view_module_version": "1.2.0",
            "grid_template_areas": null,
            "object_position": null,
            "object_fit": null,
            "grid_auto_columns": null,
            "margin": null,
            "display": null,
            "left": null
          }
        },
        "02b5c1d7585e40dabfc7450f617467aa": {
          "model_module": "@jupyter-widgets/controls",
          "model_name": "HBoxModel",
          "state": {
            "_view_name": "HBoxView",
            "_dom_classes": [],
            "_model_name": "HBoxModel",
            "_view_module": "@jupyter-widgets/controls",
            "_model_module_version": "1.5.0",
            "_view_count": null,
            "_view_module_version": "1.5.0",
            "box_style": "",
            "layout": "IPY_MODEL_fad2db242a7c4f6794f2ecf2300282dd",
            "_model_module": "@jupyter-widgets/controls",
            "children": [
              "IPY_MODEL_21275a8fa5c64064bf95f37c2850783a",
              "IPY_MODEL_12cb7311e1f643948994d60bc0ad7cab"
            ]
          }
        },
        "fad2db242a7c4f6794f2ecf2300282dd": {
          "model_module": "@jupyter-widgets/base",
          "model_name": "LayoutModel",
          "state": {
            "_view_name": "LayoutView",
            "grid_template_rows": null,
            "right": null,
            "justify_content": null,
            "_view_module": "@jupyter-widgets/base",
            "overflow": null,
            "_model_module_version": "1.2.0",
            "_view_count": null,
            "flex_flow": null,
            "width": null,
            "min_width": null,
            "border": null,
            "align_items": null,
            "bottom": null,
            "_model_module": "@jupyter-widgets/base",
            "top": null,
            "grid_column": null,
            "overflow_y": null,
            "overflow_x": null,
            "grid_auto_flow": null,
            "grid_area": null,
            "grid_template_columns": null,
            "flex": null,
            "_model_name": "LayoutModel",
            "justify_items": null,
            "grid_row": null,
            "max_height": null,
            "align_content": null,
            "visibility": null,
            "align_self": null,
            "height": null,
            "min_height": null,
            "padding": null,
            "grid_auto_rows": null,
            "grid_gap": null,
            "max_width": null,
            "order": null,
            "_view_module_version": "1.2.0",
            "grid_template_areas": null,
            "object_position": null,
            "object_fit": null,
            "grid_auto_columns": null,
            "margin": null,
            "display": null,
            "left": null
          }
        },
        "21275a8fa5c64064bf95f37c2850783a": {
          "model_module": "@jupyter-widgets/controls",
          "model_name": "FloatProgressModel",
          "state": {
            "_view_name": "ProgressView",
            "style": "IPY_MODEL_e256661ef3194f2ab2c8ad05ab2c722a",
            "_dom_classes": [],
            "description": "Downloading: 100%",
            "_model_name": "FloatProgressModel",
            "bar_style": "success",
            "max": 433,
            "_view_module": "@jupyter-widgets/controls",
            "_model_module_version": "1.5.0",
            "value": 433,
            "_view_count": null,
            "_view_module_version": "1.5.0",
            "orientation": "horizontal",
            "min": 0,
            "description_tooltip": null,
            "_model_module": "@jupyter-widgets/controls",
            "layout": "IPY_MODEL_c4f4ad2947434698ba9774c82e2e7017"
          }
        },
        "12cb7311e1f643948994d60bc0ad7cab": {
          "model_module": "@jupyter-widgets/controls",
          "model_name": "HTMLModel",
          "state": {
            "_view_name": "HTMLView",
            "style": "IPY_MODEL_b0c91db49a304186bf903e5e13e23a8c",
            "_dom_classes": [],
            "description": "",
            "_model_name": "HTMLModel",
            "placeholder": "​",
            "_view_module": "@jupyter-widgets/controls",
            "_model_module_version": "1.5.0",
            "value": " 433/433 [00:08&lt;00:00, 51.8B/s]",
            "_view_count": null,
            "_view_module_version": "1.5.0",
            "description_tooltip": null,
            "_model_module": "@jupyter-widgets/controls",
            "layout": "IPY_MODEL_2e01ec6b61784f18b613fa7a6617624c"
          }
        },
        "e256661ef3194f2ab2c8ad05ab2c722a": {
          "model_module": "@jupyter-widgets/controls",
          "model_name": "ProgressStyleModel",
          "state": {
            "_view_name": "StyleView",
            "_model_name": "ProgressStyleModel",
            "description_width": "initial",
            "_view_module": "@jupyter-widgets/base",
            "_model_module_version": "1.5.0",
            "_view_count": null,
            "_view_module_version": "1.2.0",
            "bar_color": null,
            "_model_module": "@jupyter-widgets/controls"
          }
        },
        "c4f4ad2947434698ba9774c82e2e7017": {
          "model_module": "@jupyter-widgets/base",
          "model_name": "LayoutModel",
          "state": {
            "_view_name": "LayoutView",
            "grid_template_rows": null,
            "right": null,
            "justify_content": null,
            "_view_module": "@jupyter-widgets/base",
            "overflow": null,
            "_model_module_version": "1.2.0",
            "_view_count": null,
            "flex_flow": null,
            "width": null,
            "min_width": null,
            "border": null,
            "align_items": null,
            "bottom": null,
            "_model_module": "@jupyter-widgets/base",
            "top": null,
            "grid_column": null,
            "overflow_y": null,
            "overflow_x": null,
            "grid_auto_flow": null,
            "grid_area": null,
            "grid_template_columns": null,
            "flex": null,
            "_model_name": "LayoutModel",
            "justify_items": null,
            "grid_row": null,
            "max_height": null,
            "align_content": null,
            "visibility": null,
            "align_self": null,
            "height": null,
            "min_height": null,
            "padding": null,
            "grid_auto_rows": null,
            "grid_gap": null,
            "max_width": null,
            "order": null,
            "_view_module_version": "1.2.0",
            "grid_template_areas": null,
            "object_position": null,
            "object_fit": null,
            "grid_auto_columns": null,
            "margin": null,
            "display": null,
            "left": null
          }
        },
        "b0c91db49a304186bf903e5e13e23a8c": {
          "model_module": "@jupyter-widgets/controls",
          "model_name": "DescriptionStyleModel",
          "state": {
            "_view_name": "StyleView",
            "_model_name": "DescriptionStyleModel",
            "description_width": "",
            "_view_module": "@jupyter-widgets/base",
            "_model_module_version": "1.5.0",
            "_view_count": null,
            "_view_module_version": "1.2.0",
            "_model_module": "@jupyter-widgets/controls"
          }
        },
        "2e01ec6b61784f18b613fa7a6617624c": {
          "model_module": "@jupyter-widgets/base",
          "model_name": "LayoutModel",
          "state": {
            "_view_name": "LayoutView",
            "grid_template_rows": null,
            "right": null,
            "justify_content": null,
            "_view_module": "@jupyter-widgets/base",
            "overflow": null,
            "_model_module_version": "1.2.0",
            "_view_count": null,
            "flex_flow": null,
            "width": null,
            "min_width": null,
            "border": null,
            "align_items": null,
            "bottom": null,
            "_model_module": "@jupyter-widgets/base",
            "top": null,
            "grid_column": null,
            "overflow_y": null,
            "overflow_x": null,
            "grid_auto_flow": null,
            "grid_area": null,
            "grid_template_columns": null,
            "flex": null,
            "_model_name": "LayoutModel",
            "justify_items": null,
            "grid_row": null,
            "max_height": null,
            "align_content": null,
            "visibility": null,
            "align_self": null,
            "height": null,
            "min_height": null,
            "padding": null,
            "grid_auto_rows": null,
            "grid_gap": null,
            "max_width": null,
            "order": null,
            "_view_module_version": "1.2.0",
            "grid_template_areas": null,
            "object_position": null,
            "object_fit": null,
            "grid_auto_columns": null,
            "margin": null,
            "display": null,
            "left": null
          }
        },
        "0a37d202a64f4367baf7d7342eece760": {
          "model_module": "@jupyter-widgets/controls",
          "model_name": "HBoxModel",
          "state": {
            "_view_name": "HBoxView",
            "_dom_classes": [],
            "_model_name": "HBoxModel",
            "_view_module": "@jupyter-widgets/controls",
            "_model_module_version": "1.5.0",
            "_view_count": null,
            "_view_module_version": "1.5.0",
            "box_style": "",
            "layout": "IPY_MODEL_9533db71ab6247ce82e6744136b66b03",
            "_model_module": "@jupyter-widgets/controls",
            "children": [
              "IPY_MODEL_20d2e79fda3f4ebf8b8be7d449173ee4",
              "IPY_MODEL_31852f87886f4c718addf157e3018bdd"
            ]
          }
        },
        "9533db71ab6247ce82e6744136b66b03": {
          "model_module": "@jupyter-widgets/base",
          "model_name": "LayoutModel",
          "state": {
            "_view_name": "LayoutView",
            "grid_template_rows": null,
            "right": null,
            "justify_content": null,
            "_view_module": "@jupyter-widgets/base",
            "overflow": null,
            "_model_module_version": "1.2.0",
            "_view_count": null,
            "flex_flow": null,
            "width": null,
            "min_width": null,
            "border": null,
            "align_items": null,
            "bottom": null,
            "_model_module": "@jupyter-widgets/base",
            "top": null,
            "grid_column": null,
            "overflow_y": null,
            "overflow_x": null,
            "grid_auto_flow": null,
            "grid_area": null,
            "grid_template_columns": null,
            "flex": null,
            "_model_name": "LayoutModel",
            "justify_items": null,
            "grid_row": null,
            "max_height": null,
            "align_content": null,
            "visibility": null,
            "align_self": null,
            "height": null,
            "min_height": null,
            "padding": null,
            "grid_auto_rows": null,
            "grid_gap": null,
            "max_width": null,
            "order": null,
            "_view_module_version": "1.2.0",
            "grid_template_areas": null,
            "object_position": null,
            "object_fit": null,
            "grid_auto_columns": null,
            "margin": null,
            "display": null,
            "left": null
          }
        },
        "20d2e79fda3f4ebf8b8be7d449173ee4": {
          "model_module": "@jupyter-widgets/controls",
          "model_name": "FloatProgressModel",
          "state": {
            "_view_name": "ProgressView",
            "style": "IPY_MODEL_1b8ed9444d204dbd81df2c4688b89faa",
            "_dom_classes": [],
            "description": "Downloading: 100%",
            "_model_name": "FloatProgressModel",
            "bar_style": "success",
            "max": 435779157,
            "_view_module": "@jupyter-widgets/controls",
            "_model_module_version": "1.5.0",
            "value": 435779157,
            "_view_count": null,
            "_view_module_version": "1.5.0",
            "orientation": "horizontal",
            "min": 0,
            "description_tooltip": null,
            "_model_module": "@jupyter-widgets/controls",
            "layout": "IPY_MODEL_c81a59d958394a3bb493821d64d41862"
          }
        },
        "31852f87886f4c718addf157e3018bdd": {
          "model_module": "@jupyter-widgets/controls",
          "model_name": "HTMLModel",
          "state": {
            "_view_name": "HTMLView",
            "style": "IPY_MODEL_eca30fe0fb5e47a1be0e8dbe122d2fb4",
            "_dom_classes": [],
            "description": "",
            "_model_name": "HTMLModel",
            "placeholder": "​",
            "_view_module": "@jupyter-widgets/controls",
            "_model_module_version": "1.5.0",
            "value": " 436M/436M [00:07&lt;00:00, 55.0MB/s]",
            "_view_count": null,
            "_view_module_version": "1.5.0",
            "description_tooltip": null,
            "_model_module": "@jupyter-widgets/controls",
            "layout": "IPY_MODEL_ca2226104e5a4ace9f0c230e07d1695a"
          }
        },
        "1b8ed9444d204dbd81df2c4688b89faa": {
          "model_module": "@jupyter-widgets/controls",
          "model_name": "ProgressStyleModel",
          "state": {
            "_view_name": "StyleView",
            "_model_name": "ProgressStyleModel",
            "description_width": "initial",
            "_view_module": "@jupyter-widgets/base",
            "_model_module_version": "1.5.0",
            "_view_count": null,
            "_view_module_version": "1.2.0",
            "bar_color": null,
            "_model_module": "@jupyter-widgets/controls"
          }
        },
        "c81a59d958394a3bb493821d64d41862": {
          "model_module": "@jupyter-widgets/base",
          "model_name": "LayoutModel",
          "state": {
            "_view_name": "LayoutView",
            "grid_template_rows": null,
            "right": null,
            "justify_content": null,
            "_view_module": "@jupyter-widgets/base",
            "overflow": null,
            "_model_module_version": "1.2.0",
            "_view_count": null,
            "flex_flow": null,
            "width": null,
            "min_width": null,
            "border": null,
            "align_items": null,
            "bottom": null,
            "_model_module": "@jupyter-widgets/base",
            "top": null,
            "grid_column": null,
            "overflow_y": null,
            "overflow_x": null,
            "grid_auto_flow": null,
            "grid_area": null,
            "grid_template_columns": null,
            "flex": null,
            "_model_name": "LayoutModel",
            "justify_items": null,
            "grid_row": null,
            "max_height": null,
            "align_content": null,
            "visibility": null,
            "align_self": null,
            "height": null,
            "min_height": null,
            "padding": null,
            "grid_auto_rows": null,
            "grid_gap": null,
            "max_width": null,
            "order": null,
            "_view_module_version": "1.2.0",
            "grid_template_areas": null,
            "object_position": null,
            "object_fit": null,
            "grid_auto_columns": null,
            "margin": null,
            "display": null,
            "left": null
          }
        },
        "eca30fe0fb5e47a1be0e8dbe122d2fb4": {
          "model_module": "@jupyter-widgets/controls",
          "model_name": "DescriptionStyleModel",
          "state": {
            "_view_name": "StyleView",
            "_model_name": "DescriptionStyleModel",
            "description_width": "",
            "_view_module": "@jupyter-widgets/base",
            "_model_module_version": "1.5.0",
            "_view_count": null,
            "_view_module_version": "1.2.0",
            "_model_module": "@jupyter-widgets/controls"
          }
        },
        "ca2226104e5a4ace9f0c230e07d1695a": {
          "model_module": "@jupyter-widgets/base",
          "model_name": "LayoutModel",
          "state": {
            "_view_name": "LayoutView",
            "grid_template_rows": null,
            "right": null,
            "justify_content": null,
            "_view_module": "@jupyter-widgets/base",
            "overflow": null,
            "_model_module_version": "1.2.0",
            "_view_count": null,
            "flex_flow": null,
            "width": null,
            "min_width": null,
            "border": null,
            "align_items": null,
            "bottom": null,
            "_model_module": "@jupyter-widgets/base",
            "top": null,
            "grid_column": null,
            "overflow_y": null,
            "overflow_x": null,
            "grid_auto_flow": null,
            "grid_area": null,
            "grid_template_columns": null,
            "flex": null,
            "_model_name": "LayoutModel",
            "justify_items": null,
            "grid_row": null,
            "max_height": null,
            "align_content": null,
            "visibility": null,
            "align_self": null,
            "height": null,
            "min_height": null,
            "padding": null,
            "grid_auto_rows": null,
            "grid_gap": null,
            "max_width": null,
            "order": null,
            "_view_module_version": "1.2.0",
            "grid_template_areas": null,
            "object_position": null,
            "object_fit": null,
            "grid_auto_columns": null,
            "margin": null,
            "display": null,
            "left": null
          }
        }
      }
    }
  },
  "cells": [
    {
      "cell_type": "markdown",
      "metadata": {
        "id": "view-in-github",
        "colab_type": "text"
      },
      "source": [
        "<a href=\"https://colab.research.google.com/github/ahmedovich19/Machine-Learning-Projects/blob/master/Fine_Tuning_BERT_with_HuggingFace_and_PyTorch_Lightning_for_Multilabel_Text_Classification.ipynb\" target=\"_parent\"><img src=\"https://colab.research.google.com/assets/colab-badge.svg\" alt=\"Open In Colab\"/></a>"
      ]
    },
    {
      "cell_type": "code",
      "metadata": {
        "id": "3kn4DcjKaGNo"
      },
      "source": [
        "#!nvidia-smi"
      ],
      "execution_count": 3,
      "outputs": []
    },
    {
      "cell_type": "code",
      "metadata": {
        "id": "q_HdAghFawHO",
        "colab": {
          "base_uri": "https://localhost:8080/"
        },
        "outputId": "29e59b84-c459-4806-84c7-b20ec1c363f5"
      },
      "source": [
        "!pip install --quiet pytorch-lightning\r\n"
      ],
      "execution_count": 4,
      "outputs": [
        {
          "output_type": "stream",
          "text": [
            "\u001b[K     |████████████████████████████████| 829kB 7.5MB/s \n",
            "\u001b[K     |████████████████████████████████| 276kB 15.9MB/s \n",
            "\u001b[K     |████████████████████████████████| 829kB 23.8MB/s \n",
            "\u001b[K     |████████████████████████████████| 112kB 42.2MB/s \n",
            "\u001b[K     |████████████████████████████████| 1.3MB 17.4MB/s \n",
            "\u001b[K     |████████████████████████████████| 296kB 52.3MB/s \n",
            "\u001b[K     |████████████████████████████████| 143kB 52.7MB/s \n",
            "\u001b[?25h  Building wheel for PyYAML (setup.py) ... \u001b[?25l\u001b[?25hdone\n",
            "  Building wheel for future (setup.py) ... \u001b[?25l\u001b[?25hdone\n"
          ],
          "name": "stdout"
        }
      ]
    },
    {
      "cell_type": "code",
      "metadata": {
        "id": "n74sKRThoIs2",
        "colab": {
          "base_uri": "https://localhost:8080/"
        },
        "outputId": "e1b5b7c3-6cc9-48a3-aec3-0c08f67effb5"
      },
      "source": [
        "!pip install --quiet transformers"
      ],
      "execution_count": 5,
      "outputs": [
        {
          "output_type": "stream",
          "text": [
            "\u001b[K     |████████████████████████████████| 1.9MB 7.9MB/s \n",
            "\u001b[K     |████████████████████████████████| 3.2MB 38.1MB/s \n",
            "\u001b[K     |████████████████████████████████| 890kB 54.6MB/s \n",
            "\u001b[?25h  Building wheel for sacremoses (setup.py) ... \u001b[?25l\u001b[?25hdone\n"
          ],
          "name": "stdout"
        }
      ]
    },
    {
      "cell_type": "code",
      "metadata": {
        "id": "IkK79UiqbciN"
      },
      "source": [
        "import transformers\r\n",
        "from transformers import BertModel, BertTokenizer, AdamW, get_linear_schedule_with_warmup\r\n",
        "import torch\r\n",
        "import numpy as np\r\n",
        "import pandas as pd\r\n",
        "import seaborn as sns\r\n",
        "from pylab import rcParams\r\n",
        "import matplotlib.pyplot as plt\r\n",
        "from matplotlib import rc\r\n",
        "from sklearn.model_selection import train_test_split\r\n",
        "from sklearn.metrics import confusion_matrix, classification_report\r\n",
        "from collections import defaultdict\r\n",
        "from textwrap import wrap\r\n",
        "from torch import nn, optim\r\n",
        "import torch.nn.functional as F\r\n",
        "from torch.utils.data import Dataset, DataLoader\r\n",
        "import pytorch_lightning as pl\r\n",
        "from  pytorch_lightning.metrics.functional.classification import auroc\r\n",
        "%matplotlib inline\r\n",
        "%config InlineBackend.figure_format='retina'\r\n",
        "sns.set(style='whitegrid', palette='muted', font_scale=1.2)\r\n",
        "HAPPY_COLORS_PALETTE = [\"#01BEFE\", \"#FFDD00\", \"#FF7D00\", \"#FF006D\", \"#ADFF02\", \"#8F00FF\"]\r\n",
        "sns.set_palette(sns.color_palette(HAPPY_COLORS_PALETTE))\r\n",
        "rcParams['figure.figsize'] = 12, 8\r\n",
        "RANDOM_SEED = 42\r\n",
        "np.random.seed(RANDOM_SEED)\r\n",
        "torch.manual_seed(RANDOM_SEED)\r\n",
        "device = torch.device(\"cuda:0\" if torch.cuda.is_available() else \"cpu\")"
      ],
      "execution_count": 6,
      "outputs": []
    },
    {
      "cell_type": "code",
      "metadata": {
        "id": "z-bEhq31eYaP",
        "colab": {
          "base_uri": "https://localhost:8080/"
        },
        "outputId": "85bcc0be-4c21-406e-b052-87924c114db0"
      },
      "source": [
        "%cd drive/MyDrive"
      ],
      "execution_count": 7,
      "outputs": [
        {
          "output_type": "stream",
          "text": [
            "/content/drive/MyDrive\n"
          ],
          "name": "stdout"
        }
      ]
    },
    {
      "cell_type": "code",
      "metadata": {
        "colab": {
          "base_uri": "https://localhost:8080/"
        },
        "id": "iyKE-hTWuApq",
        "outputId": "a74d911f-5309-4495-ee82-51b0849e6e3b"
      },
      "source": [
        "!unzip train.csv.zip"
      ],
      "execution_count": 8,
      "outputs": [
        {
          "output_type": "stream",
          "text": [
            "Archive:  train.csv.zip\n",
            "  inflating: train.csv               \n"
          ],
          "name": "stdout"
        }
      ]
    },
    {
      "cell_type": "code",
      "metadata": {
        "id": "-hYZ7QBhuMeS"
      },
      "source": [
        "df = pd.read_csv('train.csv')"
      ],
      "execution_count": 9,
      "outputs": []
    },
    {
      "cell_type": "code",
      "metadata": {
        "colab": {
          "base_uri": "https://localhost:8080/",
          "height": 400
        },
        "id": "wI3U5vn7uTTS",
        "outputId": "6fcd3324-49a0-4d53-879d-56551549eb40"
      },
      "source": [
        "df.head()"
      ],
      "execution_count": 10,
      "outputs": [
        {
          "output_type": "execute_result",
          "data": {
            "text/html": [
              "<div>\n",
              "<style scoped>\n",
              "    .dataframe tbody tr th:only-of-type {\n",
              "        vertical-align: middle;\n",
              "    }\n",
              "\n",
              "    .dataframe tbody tr th {\n",
              "        vertical-align: top;\n",
              "    }\n",
              "\n",
              "    .dataframe thead th {\n",
              "        text-align: right;\n",
              "    }\n",
              "</style>\n",
              "<table border=\"1\" class=\"dataframe\">\n",
              "  <thead>\n",
              "    <tr style=\"text-align: right;\">\n",
              "      <th></th>\n",
              "      <th>id</th>\n",
              "      <th>comment_text</th>\n",
              "      <th>toxic</th>\n",
              "      <th>severe_toxic</th>\n",
              "      <th>obscene</th>\n",
              "      <th>threat</th>\n",
              "      <th>insult</th>\n",
              "      <th>identity_hate</th>\n",
              "    </tr>\n",
              "  </thead>\n",
              "  <tbody>\n",
              "    <tr>\n",
              "      <th>0</th>\n",
              "      <td>0000997932d777bf</td>\n",
              "      <td>Explanation\\nWhy the edits made under my usern...</td>\n",
              "      <td>0</td>\n",
              "      <td>0</td>\n",
              "      <td>0</td>\n",
              "      <td>0</td>\n",
              "      <td>0</td>\n",
              "      <td>0</td>\n",
              "    </tr>\n",
              "    <tr>\n",
              "      <th>1</th>\n",
              "      <td>000103f0d9cfb60f</td>\n",
              "      <td>D'aww! He matches this background colour I'm s...</td>\n",
              "      <td>0</td>\n",
              "      <td>0</td>\n",
              "      <td>0</td>\n",
              "      <td>0</td>\n",
              "      <td>0</td>\n",
              "      <td>0</td>\n",
              "    </tr>\n",
              "    <tr>\n",
              "      <th>2</th>\n",
              "      <td>000113f07ec002fd</td>\n",
              "      <td>Hey man, I'm really not trying to edit war. It...</td>\n",
              "      <td>0</td>\n",
              "      <td>0</td>\n",
              "      <td>0</td>\n",
              "      <td>0</td>\n",
              "      <td>0</td>\n",
              "      <td>0</td>\n",
              "    </tr>\n",
              "    <tr>\n",
              "      <th>3</th>\n",
              "      <td>0001b41b1c6bb37e</td>\n",
              "      <td>\"\\nMore\\nI can't make any real suggestions on ...</td>\n",
              "      <td>0</td>\n",
              "      <td>0</td>\n",
              "      <td>0</td>\n",
              "      <td>0</td>\n",
              "      <td>0</td>\n",
              "      <td>0</td>\n",
              "    </tr>\n",
              "    <tr>\n",
              "      <th>4</th>\n",
              "      <td>0001d958c54c6e35</td>\n",
              "      <td>You, sir, are my hero. Any chance you remember...</td>\n",
              "      <td>0</td>\n",
              "      <td>0</td>\n",
              "      <td>0</td>\n",
              "      <td>0</td>\n",
              "      <td>0</td>\n",
              "      <td>0</td>\n",
              "    </tr>\n",
              "  </tbody>\n",
              "</table>\n",
              "</div>"
            ],
            "text/plain": [
              "                 id  ... identity_hate\n",
              "0  0000997932d777bf  ...             0\n",
              "1  000103f0d9cfb60f  ...             0\n",
              "2  000113f07ec002fd  ...             0\n",
              "3  0001b41b1c6bb37e  ...             0\n",
              "4  0001d958c54c6e35  ...             0\n",
              "\n",
              "[5 rows x 8 columns]"
            ]
          },
          "metadata": {
            "tags": []
          },
          "execution_count": 10
        }
      ]
    },
    {
      "cell_type": "code",
      "metadata": {
        "id": "ZI-dKOpFuUBr"
      },
      "source": [
        "train_df, val_df =train_test_split(df, test_size=0.05)"
      ],
      "execution_count": 11,
      "outputs": []
    },
    {
      "cell_type": "code",
      "metadata": {
        "colab": {
          "base_uri": "https://localhost:8080/"
        },
        "id": "ZhkP0vYouxd_",
        "outputId": "3d659428-e377-4250-9242-5fa75a5d387b"
      },
      "source": [
        "train_df.shape, val_df.shape"
      ],
      "execution_count": 12,
      "outputs": [
        {
          "output_type": "execute_result",
          "data": {
            "text/plain": [
              "((151592, 8), (7979, 8))"
            ]
          },
          "metadata": {
            "tags": []
          },
          "execution_count": 12
        }
      ]
    },
    {
      "cell_type": "code",
      "metadata": {
        "id": "psbdg00hu14_"
      },
      "source": [
        "LABEL_COLUMNS = ['toxic', 'severe_toxic','obscene','threat','insult','identity_hate']"
      ],
      "execution_count": 13,
      "outputs": []
    },
    {
      "cell_type": "code",
      "metadata": {
        "colab": {
          "base_uri": "https://localhost:8080/"
        },
        "id": "m8QpB5a1vrlh",
        "outputId": "4a36620b-4ba7-4809-ea3a-0fda62f80df9"
      },
      "source": [
        "train_df[LABEL_COLUMNS].sum()"
      ],
      "execution_count": 14,
      "outputs": [
        {
          "output_type": "execute_result",
          "data": {
            "text/plain": [
              "toxic            14546\n",
              "severe_toxic      1515\n",
              "obscene           8028\n",
              "threat             465\n",
              "insult            7467\n",
              "identity_hate     1334\n",
              "dtype: int64"
            ]
          },
          "metadata": {
            "tags": []
          },
          "execution_count": 14
        }
      ]
    },
    {
      "cell_type": "code",
      "metadata": {
        "colab": {
          "base_uri": "https://localhost:8080/"
        },
        "id": "9KyVy5mSc_9o",
        "outputId": "e3024711-fb99-4cf4-f98c-c05eab359a3d"
      },
      "source": [
        "train_df[LABEL_COLUMNS].sum().sum()"
      ],
      "execution_count": 15,
      "outputs": [
        {
          "output_type": "execute_result",
          "data": {
            "text/plain": [
              "33355"
            ]
          },
          "metadata": {
            "tags": []
          },
          "execution_count": 15
        }
      ]
    },
    {
      "cell_type": "code",
      "metadata": {
        "colab": {
          "base_uri": "https://localhost:8080/"
        },
        "id": "W7VNU41edPJs",
        "outputId": "bcce77d2-a1d6-4298-86b6-444a4e76c35a"
      },
      "source": [
        "train_df[LABEL_COLUMNS].sum(axis=1).head()"
      ],
      "execution_count": 16,
      "outputs": [
        {
          "output_type": "execute_result",
          "data": {
            "text/plain": [
              "41414     0\n",
              "141338    0\n",
              "145906    0\n",
              "113950    0\n",
              "136413    0\n",
              "dtype: int64"
            ]
          },
          "metadata": {
            "tags": []
          },
          "execution_count": 16
        }
      ]
    },
    {
      "cell_type": "code",
      "metadata": {
        "id": "W52zZKJndhIq"
      },
      "source": [
        "train_toxic = train_df[train_df[LABEL_COLUMNS].sum(axis=1)>0]"
      ],
      "execution_count": 17,
      "outputs": []
    },
    {
      "cell_type": "code",
      "metadata": {
        "colab": {
          "base_uri": "https://localhost:8080/"
        },
        "id": "fOfo_TjAd3ey",
        "outputId": "a3a01ad4-7290-4d75-f671-c9996e930878"
      },
      "source": [
        "train_toxic.shape"
      ],
      "execution_count": 18,
      "outputs": [
        {
          "output_type": "execute_result",
          "data": {
            "text/plain": [
              "(15427, 8)"
            ]
          },
          "metadata": {
            "tags": []
          },
          "execution_count": 18
        }
      ]
    },
    {
      "cell_type": "code",
      "metadata": {
        "id": "BuL2RLZXeJvu"
      },
      "source": [
        "train_clean = train_df[train_df[LABEL_COLUMNS].sum(axis=1) == 0]"
      ],
      "execution_count": 19,
      "outputs": []
    },
    {
      "cell_type": "code",
      "metadata": {
        "colab": {
          "base_uri": "https://localhost:8080/"
        },
        "id": "Gqm2treYeNJy",
        "outputId": "d6bdf319-b309-4255-d339-bb988275f158"
      },
      "source": [
        "train_toxic.shape,train_clean.shape"
      ],
      "execution_count": 20,
      "outputs": [
        {
          "output_type": "execute_result",
          "data": {
            "text/plain": [
              "((15427, 8), (136165, 8))"
            ]
          },
          "metadata": {
            "tags": []
          },
          "execution_count": 20
        }
      ]
    },
    {
      "cell_type": "code",
      "metadata": {
        "colab": {
          "base_uri": "https://localhost:8080/"
        },
        "id": "DNT0UwcffmPl",
        "outputId": "42eda875-be91-4087-f458-bb55395a92a3"
      },
      "source": [
        "train_df = pd.concat([\r\n",
        "  train_toxic,\r\n",
        "  train_clean.sample(15_000)\r\n",
        "])\r\n",
        "train_df.shape"
      ],
      "execution_count": 21,
      "outputs": [
        {
          "output_type": "execute_result",
          "data": {
            "text/plain": [
              "(30427, 8)"
            ]
          },
          "metadata": {
            "tags": []
          },
          "execution_count": 21
        }
      ]
    },
    {
      "cell_type": "code",
      "metadata": {
        "colab": {
          "base_uri": "https://localhost:8080/"
        },
        "id": "yHCxHJgShYc2",
        "outputId": "f96b64ed-664d-40c0-f764-b1943af9ec12"
      },
      "source": [
        "train_df[LABEL_COLUMNS].sum()"
      ],
      "execution_count": 22,
      "outputs": [
        {
          "output_type": "execute_result",
          "data": {
            "text/plain": [
              "toxic            14546\n",
              "severe_toxic      1515\n",
              "obscene           8028\n",
              "threat             465\n",
              "insult            7467\n",
              "identity_hate     1334\n",
              "dtype: int64"
            ]
          },
          "metadata": {
            "tags": []
          },
          "execution_count": 22
        }
      ]
    },
    {
      "cell_type": "code",
      "metadata": {
        "colab": {
          "base_uri": "https://localhost:8080/"
        },
        "id": "t2yq4AzSwcR-",
        "outputId": "b5d56846-69f7-4b5a-abb0-8ad08732fab5"
      },
      "source": [
        "sample_row = df.iloc[16]\r\n",
        "sample_comment = sample_row.comment_text\r\n",
        "sample_labels = sample_row[LABEL_COLUMNS]\r\n",
        "print(sample_comment)\r\n",
        "print()\r\n",
        "print(sample_labels.to_dict())"
      ],
      "execution_count": 23,
      "outputs": [
        {
          "output_type": "stream",
          "text": [
            "Bye! \n",
            "\n",
            "Don't look, come or think of comming back! Tosser.\n",
            "\n",
            "{'toxic': 1, 'severe_toxic': 0, 'obscene': 0, 'threat': 0, 'insult': 0, 'identity_hate': 0}\n"
          ],
          "name": "stdout"
        }
      ]
    },
    {
      "cell_type": "code",
      "metadata": {
        "id": "McPBSn9Fx8W_",
        "colab": {
          "base_uri": "https://localhost:8080/",
          "height": 66,
          "referenced_widgets": [
            "dd754c57e77e464cbb3aa300ef6f1413",
            "45739d4408e44eadad4311c623d69fd0",
            "6bf27cd71cde4d4a82d61ea5cc6b314f",
            "921da3cf0914441d968915ccd1db6e41",
            "9a5c14c74c09454d84152269c3b1e4ff",
            "adf3667a05f3471dbe85aa178e216671",
            "cf1630d484ed43e3941f0ca447b641c5",
            "425799374e2d401b82b94b1b70fba31f"
          ]
        },
        "outputId": "ede28de0-159b-4df0-c661-9f95fe488e76"
      },
      "source": [
        "\r\n",
        "BERT_MODEL_NAME = 'bert-base-cased'\r\n",
        "tokenizer =BertTokenizer.from_pretrained(BERT_MODEL_NAME)"
      ],
      "execution_count": 24,
      "outputs": [
        {
          "output_type": "display_data",
          "data": {
            "application/vnd.jupyter.widget-view+json": {
              "model_id": "dd754c57e77e464cbb3aa300ef6f1413",
              "version_minor": 0,
              "version_major": 2
            },
            "text/plain": [
              "HBox(children=(FloatProgress(value=0.0, description='Downloading', max=213450.0, style=ProgressStyle(descripti…"
            ]
          },
          "metadata": {
            "tags": []
          }
        },
        {
          "output_type": "stream",
          "text": [
            "\n"
          ],
          "name": "stdout"
        }
      ]
    },
    {
      "cell_type": "code",
      "metadata": {
        "id": "rzwmv2Dp2w_b"
      },
      "source": [
        "encoding = tokenizer.encode_plus(\r\n",
        "    sample_comment,\r\n",
        "    add_special_tokens=True,\r\n",
        "    max_length=512,\r\n",
        "    return_token_type_ids = False,\r\n",
        "    padding = 'max_length',\r\n",
        "    return_attention_mask=True,\r\n",
        "    return_tensors = 'pt'\r\n",
        ")"
      ],
      "execution_count": 25,
      "outputs": []
    },
    {
      "cell_type": "code",
      "metadata": {
        "colab": {
          "base_uri": "https://localhost:8080/"
        },
        "id": "Dx_XnqUU-e53",
        "outputId": "3628f591-485b-4d58-8e89-dcd4a9b8c67a"
      },
      "source": [
        " encoding.keys()"
      ],
      "execution_count": 26,
      "outputs": [
        {
          "output_type": "execute_result",
          "data": {
            "text/plain": [
              "dict_keys(['input_ids', 'attention_mask'])"
            ]
          },
          "metadata": {
            "tags": []
          },
          "execution_count": 26
        }
      ]
    },
    {
      "cell_type": "code",
      "metadata": {
        "colab": {
          "base_uri": "https://localhost:8080/"
        },
        "id": "ASqK8pFv-seM",
        "outputId": "509878a3-6226-468f-d20a-c2bdf9d8abfe"
      },
      "source": [
        "encoding['input_ids'].shape,encoding['attention_mask'].shape"
      ],
      "execution_count": 27,
      "outputs": [
        {
          "output_type": "execute_result",
          "data": {
            "text/plain": [
              "(torch.Size([1, 512]), torch.Size([1, 512]))"
            ]
          },
          "metadata": {
            "tags": []
          },
          "execution_count": 27
        }
      ]
    },
    {
      "cell_type": "code",
      "metadata": {
        "colab": {
          "base_uri": "https://localhost:8080/"
        },
        "id": "sUZoUrd_-2K3",
        "outputId": "d4ac6ff1-ed0e-487f-83df-3d6213afe31a"
      },
      "source": [
        "encoding['input_ids'].squeeze()[:20]"
      ],
      "execution_count": 28,
      "outputs": [
        {
          "output_type": "execute_result",
          "data": {
            "text/plain": [
              "tensor([  101, 17774,   106,  1790,   112,   189,  1440,   117,  1435,  1137,\n",
              "         1341,  1104,  3254,  5031,  1171,   106,  1706, 14607,   119,   102])"
            ]
          },
          "metadata": {
            "tags": []
          },
          "execution_count": 28
        }
      ]
    },
    {
      "cell_type": "code",
      "metadata": {
        "colab": {
          "base_uri": "https://localhost:8080/"
        },
        "id": "idM3Lcqx-_Dd",
        "outputId": "196f1226-2bff-41de-c181-701f512dbfe8"
      },
      "source": [
        "encoding['attention_mask'].squeeze()[:20]"
      ],
      "execution_count": 29,
      "outputs": [
        {
          "output_type": "execute_result",
          "data": {
            "text/plain": [
              "tensor([1, 1, 1, 1, 1, 1, 1, 1, 1, 1, 1, 1, 1, 1, 1, 1, 1, 1, 1, 1])"
            ]
          },
          "metadata": {
            "tags": []
          },
          "execution_count": 29
        }
      ]
    },
    {
      "cell_type": "code",
      "metadata": {
        "colab": {
          "base_uri": "https://localhost:8080/"
        },
        "id": "8R6vQuDN_H1R",
        "outputId": "ce3f88ad-7976-4afa-dfe1-d727333292d8"
      },
      "source": [
        "print(tokenizer.convert_ids_to_tokens(encoding['input_ids'].squeeze())[:20])"
      ],
      "execution_count": 30,
      "outputs": [
        {
          "output_type": "stream",
          "text": [
            "['[CLS]', 'Bye', '!', 'Don', \"'\", 't', 'look', ',', 'come', 'or', 'think', 'of', 'com', '##ming', 'back', '!', 'To', '##sser', '.', '[SEP]']\n"
          ],
          "name": "stdout"
        }
      ]
    },
    {
      "cell_type": "code",
      "metadata": {
        "id": "3k_IO6E0_oyI"
      },
      "source": [
        "class ToxicCommentDataset(Dataset):\r\n",
        "  def __init__(self,data:pd.DataFrame,tokenizer:BertTokenizer,max_token_len: int = 128):\r\n",
        "    self.data =data\r\n",
        "    self.tokenizer = tokenizer\r\n",
        "    self.max_token_len = max_token_len\r\n",
        "  \r\n",
        "  def __len__(self):\r\n",
        "    return len(self.data)\r\n",
        "\r\n",
        "  def __getitem__(self, index: int):\r\n",
        "    data_row = self.data.iloc[index]\r\n",
        "    comment_text = data_row.comment_text\r\n",
        "    labels = data_row[LABEL_COLUMNS]\r\n",
        "\r\n",
        "    encoding = self.tokenizer.encode_plus(\r\n",
        "      comment_text,\r\n",
        "      add_special_tokens=True,\r\n",
        "      max_length=self.max_token_len,\r\n",
        "      return_token_type_ids=False,\r\n",
        "      padding='max_length',\r\n",
        "      truncation=True,\r\n",
        "      return_attention_mask=True,\r\n",
        "      return_tensors='pt'\r\n",
        "      \r\n",
        "    )\r\n",
        "\r\n",
        "    return dict(\r\n",
        "        comment_text=comment_text,\r\n",
        "        input_ids=encoding['input_ids'].flatten(),\r\n",
        "        attention_mask = encoding['attention_mask'].flatten(),\r\n",
        "        labels = torch.FloatTensor(labels)\r\n",
        "    )"
      ],
      "execution_count": 31,
      "outputs": []
    },
    {
      "cell_type": "code",
      "metadata": {
        "id": "XmLt_LSbCrNA"
      },
      "source": [
        "train_dataset = ToxicCommentDataset(train_df,tokenizer)"
      ],
      "execution_count": 32,
      "outputs": []
    },
    {
      "cell_type": "code",
      "metadata": {
        "id": "k33Jm8yrI9GT"
      },
      "source": [
        "sample_item = train_dataset[0]"
      ],
      "execution_count": 33,
      "outputs": []
    },
    {
      "cell_type": "code",
      "metadata": {
        "colab": {
          "base_uri": "https://localhost:8080/"
        },
        "id": "iECYOWJcJoPW",
        "outputId": "786df13f-7704-4ff7-c21e-f393f30f7e26"
      },
      "source": [
        "sample_item.keys()"
      ],
      "execution_count": 34,
      "outputs": [
        {
          "output_type": "execute_result",
          "data": {
            "text/plain": [
              "dict_keys(['comment_text', 'input_ids', 'attention_mask', 'labels'])"
            ]
          },
          "metadata": {
            "tags": []
          },
          "execution_count": 34
        }
      ]
    },
    {
      "cell_type": "code",
      "metadata": {
        "colab": {
          "base_uri": "https://localhost:8080/",
          "height": 35
        },
        "id": "bMybp5HEJ2Vb",
        "outputId": "4a7d57e5-bce5-4688-d9cb-77f6d3242ac2"
      },
      "source": [
        "sample_item['comment_text']"
      ],
      "execution_count": 35,
      "outputs": [
        {
          "output_type": "execute_result",
          "data": {
            "application/vnd.google.colaboratory.intrinsic+json": {
              "type": "string"
            },
            "text/plain": [
              "'Hi, ya fucking idiot. ^_^'"
            ]
          },
          "metadata": {
            "tags": []
          },
          "execution_count": 35
        }
      ]
    },
    {
      "cell_type": "code",
      "metadata": {
        "colab": {
          "base_uri": "https://localhost:8080/"
        },
        "id": "6QYo-OHyJ6Ib",
        "outputId": "55876c3f-58c9-42f7-d1f9-c28db30c1c82"
      },
      "source": [
        "sample_item['labels']"
      ],
      "execution_count": 36,
      "outputs": [
        {
          "output_type": "execute_result",
          "data": {
            "text/plain": [
              "tensor([1., 0., 1., 0., 1., 0.])"
            ]
          },
          "metadata": {
            "tags": []
          },
          "execution_count": 36
        }
      ]
    },
    {
      "cell_type": "code",
      "metadata": {
        "colab": {
          "base_uri": "https://localhost:8080/"
        },
        "id": "uqm2qfIOJ_Xn",
        "outputId": "871259f2-3bce-4817-bb8b-7cd1b9e1e871"
      },
      "source": [
        "sample_item['input_ids'].shape"
      ],
      "execution_count": 37,
      "outputs": [
        {
          "output_type": "execute_result",
          "data": {
            "text/plain": [
              "torch.Size([128])"
            ]
          },
          "metadata": {
            "tags": []
          },
          "execution_count": 37
        }
      ]
    },
    {
      "cell_type": "code",
      "metadata": {
        "id": "Px3ZNMDtKVAo",
        "colab": {
          "base_uri": "https://localhost:8080/",
          "height": 115,
          "referenced_widgets": [
            "02b5c1d7585e40dabfc7450f617467aa",
            "fad2db242a7c4f6794f2ecf2300282dd",
            "21275a8fa5c64064bf95f37c2850783a",
            "12cb7311e1f643948994d60bc0ad7cab",
            "e256661ef3194f2ab2c8ad05ab2c722a",
            "c4f4ad2947434698ba9774c82e2e7017",
            "b0c91db49a304186bf903e5e13e23a8c",
            "2e01ec6b61784f18b613fa7a6617624c",
            "0a37d202a64f4367baf7d7342eece760",
            "9533db71ab6247ce82e6744136b66b03",
            "20d2e79fda3f4ebf8b8be7d449173ee4",
            "31852f87886f4c718addf157e3018bdd",
            "1b8ed9444d204dbd81df2c4688b89faa",
            "c81a59d958394a3bb493821d64d41862",
            "eca30fe0fb5e47a1be0e8dbe122d2fb4",
            "ca2226104e5a4ace9f0c230e07d1695a"
          ]
        },
        "outputId": "98763966-ea6a-4c40-fe17-f766f0e654c6"
      },
      "source": [
        "bert_model = BertModel.from_pretrained(BERT_MODEL_NAME,return_dict=True)"
      ],
      "execution_count": 38,
      "outputs": [
        {
          "output_type": "display_data",
          "data": {
            "application/vnd.jupyter.widget-view+json": {
              "model_id": "02b5c1d7585e40dabfc7450f617467aa",
              "version_minor": 0,
              "version_major": 2
            },
            "text/plain": [
              "HBox(children=(FloatProgress(value=0.0, description='Downloading', max=433.0, style=ProgressStyle(description_…"
            ]
          },
          "metadata": {
            "tags": []
          }
        },
        {
          "output_type": "stream",
          "text": [
            "\n"
          ],
          "name": "stdout"
        },
        {
          "output_type": "display_data",
          "data": {
            "application/vnd.jupyter.widget-view+json": {
              "model_id": "0a37d202a64f4367baf7d7342eece760",
              "version_minor": 0,
              "version_major": 2
            },
            "text/plain": [
              "HBox(children=(FloatProgress(value=0.0, description='Downloading', max=435779157.0, style=ProgressStyle(descri…"
            ]
          },
          "metadata": {
            "tags": []
          }
        },
        {
          "output_type": "stream",
          "text": [
            "\n"
          ],
          "name": "stdout"
        }
      ]
    },
    {
      "cell_type": "code",
      "metadata": {
        "colab": {
          "base_uri": "https://localhost:8080/"
        },
        "id": "bs6KMVMOLDmH",
        "outputId": "68639034-439f-4994-d9bf-6af18f14d4d6"
      },
      "source": [
        "sample_item['input_ids'].unsqueeze(dim=0).shape,sample_item['attention_mask'].unsqueeze(dim=0).shape"
      ],
      "execution_count": 39,
      "outputs": [
        {
          "output_type": "execute_result",
          "data": {
            "text/plain": [
              "(torch.Size([1, 128]), torch.Size([1, 128]))"
            ]
          },
          "metadata": {
            "tags": []
          },
          "execution_count": 39
        }
      ]
    },
    {
      "cell_type": "code",
      "metadata": {
        "id": "MOqxv-CXLW2d"
      },
      "source": [
        "prediction = bert_model(sample_item['input_ids'].unsqueeze(dim=0),sample_item['attention_mask'].unsqueeze(dim=0))"
      ],
      "execution_count": 40,
      "outputs": []
    },
    {
      "cell_type": "code",
      "metadata": {
        "colab": {
          "base_uri": "https://localhost:8080/"
        },
        "id": "mMZ2B426NFs1",
        "outputId": "a5b6f846-ad42-494c-8280-44e216375967"
      },
      "source": [
        "prediction"
      ],
      "execution_count": 41,
      "outputs": [
        {
          "output_type": "execute_result",
          "data": {
            "text/plain": [
              "BaseModelOutputWithPoolingAndCrossAttentions([('last_hidden_state',\n",
              "                                               tensor([[[ 0.0846,  0.4219,  0.2352,  ..., -0.0680,  0.0722, -0.0598],\n",
              "                                                        [ 0.2486, -0.1283,  1.0093,  ..., -0.2350,  0.4228, -0.0814],\n",
              "                                                        [ 0.3565,  0.3140,  0.8552,  ...,  0.2619, -0.3000, -0.5343],\n",
              "                                                        ...,\n",
              "                                                        [-0.0259,  0.2138,  0.0866,  ..., -0.0545, -0.1180,  0.4628],\n",
              "                                                        [ 0.0199,  0.1895, -0.0152,  ...,  0.0256, -0.1167,  0.5580],\n",
              "                                                        [-0.0069,  0.1778, -0.0506,  ..., -0.1385,  0.0760,  0.5762]]],\n",
              "                                                      grad_fn=<NativeLayerNormBackward>)),\n",
              "                                              ('pooler_output',\n",
              "                                               tensor([[-4.5884e-01,  3.5576e-01,  9.9909e-01, -9.8728e-01,  9.1926e-01,\n",
              "                                                         9.4463e-01,  9.4537e-01, -9.9453e-01, -9.6092e-01, -4.6131e-01,\n",
              "                                                         9.6108e-01,  9.9786e-01, -9.9911e-01, -9.9927e-01,  8.2625e-01,\n",
              "                                                        -9.3710e-01,  9.7253e-01, -3.6539e-01, -9.9990e-01, -2.5001e-01,\n",
              "                                                        -7.6791e-01, -9.9955e-01,  2.2361e-01,  9.8533e-01,  9.3907e-01,\n",
              "                                                         8.6047e-02,  9.6255e-01,  9.9991e-01,  6.4550e-01,  8.6526e-02,\n",
              "                                                         1.5921e-01, -9.8354e-01,  8.2150e-01, -9.9677e-01,  1.2412e-01,\n",
              "                                                         3.8900e-01,  6.5728e-01, -1.3269e-01,  7.7497e-01, -9.5673e-01,\n",
              "                                                        -4.3597e-01, -3.6604e-01,  6.4705e-01, -4.9645e-01,  9.2551e-01,\n",
              "                                                        -2.9032e-02,  1.0205e-01,  1.1619e-02, -9.2050e-02,  9.9771e-01,\n",
              "                                                        -8.9013e-01,  8.9243e-01, -9.9474e-01,  9.5420e-01,  9.9491e-01,\n",
              "                                                         1.6596e-01,  9.9443e-01,  1.1356e-01, -9.9938e-01, -9.8858e-02,\n",
              "                                                         9.2845e-01,  2.2421e-01,  7.8403e-01, -8.1105e-02,  3.2636e-01,\n",
              "                                                        -2.7746e-01, -8.9989e-01,  1.4019e-01, -3.3967e-01, -7.6533e-02,\n",
              "                                                         6.6367e-02,  3.8280e-01,  9.6999e-01, -7.8977e-01, -1.8868e-02,\n",
              "                                                        -8.1788e-01,  1.8993e-01, -9.9963e-01,  8.7180e-01,  9.9988e-01,\n",
              "                                                         8.3520e-01, -9.9958e-01,  9.9345e-01, -1.6171e-01, -6.5774e-01,\n",
              "                                                         8.0958e-01, -9.9885e-01, -9.9903e-01,  7.7064e-02, -1.1420e-01,\n",
              "                                                         8.8796e-01, -9.7221e-01,  7.2738e-01, -8.9453e-01,  9.9992e-01,\n",
              "                                                        -8.9523e-01, -1.4695e-01,  3.0950e-01,  9.7596e-01, -8.7160e-01,\n",
              "                                                        -5.6504e-01,  9.4650e-01,  9.9907e-01, -9.9396e-01,  9.9910e-01,\n",
              "                                                         7.8265e-01, -8.7748e-01, -9.1949e-01,  9.0473e-01, -3.0370e-02,\n",
              "                                                         9.5959e-01, -9.3806e-01, -9.3030e-01,  2.7063e-02,  9.7839e-01,\n",
              "                                                        -7.9544e-01,  9.8062e-01,  5.2974e-01, -1.9994e-01,  9.9994e-01,\n",
              "                                                        -8.2989e-02,  9.5460e-01,  9.9721e-01,  8.4951e-01, -8.3842e-01,\n",
              "                                                        -1.4860e-01, -6.1233e-01,  9.1471e-01, -6.4946e-01, -5.5762e-02,\n",
              "                                                         7.0031e-01, -9.8503e-01, -9.9757e-01,  9.9898e-01, -1.4280e-01,\n",
              "                                                         9.9993e-01, -9.9880e-01,  9.9576e-01, -9.9981e-01, -8.7142e-01,\n",
              "                                                        -6.8488e-01, -4.8823e-02, -9.8845e-01, -3.7740e-02,  9.8335e-01,\n",
              "                                                         2.2921e-02, -9.4784e-01, -8.3643e-01,  7.4542e-01, -9.1674e-01,\n",
              "                                                         2.5344e-01,  5.7151e-01, -8.3988e-01,  7.7790e-01,  9.9829e-01,\n",
              "                                                         9.6960e-01,  9.8857e-01,  1.1559e-01, -9.6716e-01,  8.1722e-01,\n",
              "                                                         9.6529e-01, -9.9915e-01,  9.4725e-01, -9.9596e-01,  9.9732e-01,\n",
              "                                                         9.3542e-01,  8.2389e-01, -9.9798e-01,  9.9977e-01, -8.3638e-01,\n",
              "                                                         3.1351e-02,  1.5468e-02,  6.4597e-03, -9.9901e-01,  3.4035e-01,\n",
              "                                                         3.7029e-01,  4.3837e-01,  9.9691e-01, -9.9137e-01,  9.9509e-01,\n",
              "                                                         5.7004e-01,  4.5700e-02,  6.6492e-01,  9.9935e-01, -9.9371e-01,\n",
              "                                                        -9.4691e-01, -9.7889e-01,  2.1306e-01,  7.9004e-01,  7.9080e-01,\n",
              "                                                         5.0440e-01,  8.9099e-01,  9.9852e-01,  1.6065e-01, -9.8907e-01,\n",
              "                                                        -3.1281e-01,  9.5946e-01, -1.5937e-01,  9.9992e-01, -7.0819e-01,\n",
              "                                                        -9.9954e-01, -6.7855e-01,  9.3320e-01,  9.8875e-01, -2.5720e-01,\n",
              "                                                         9.6150e-01, -8.0811e-01, -2.8286e-01,  9.9219e-01, -8.1035e-01,\n",
              "                                                         9.9778e-01,  4.9719e-01,  8.6070e-01,  6.6813e-01,  9.8622e-01,\n",
              "                                                        -8.6861e-01, -1.2080e-01,  1.8788e-01, -6.2183e-01,  9.9978e-01,\n",
              "                                                        -9.9929e-01, -2.7069e-01,  3.3297e-01, -9.8855e-01, -9.9818e-01,\n",
              "                                                         9.5376e-01,  1.1015e-01, -9.1675e-01, -1.6512e-01,  7.1769e-01,\n",
              "                                                         2.1179e-01,  9.2990e-01,  9.8761e-01, -6.3570e-01, -7.2944e-01,\n",
              "                                                        -9.9962e-01, -9.9631e-01, -3.8570e-01, -9.6466e-01, -8.1696e-03,\n",
              "                                                         5.3677e-01, -3.0459e-01, -7.7189e-01, -9.9882e-01,  9.3104e-01,\n",
              "                                                         5.8928e-01, -9.4360e-01,  1.5062e-01, -6.1457e-01, -9.9833e-01,\n",
              "                                                         5.2023e-01, -8.3892e-01, -9.9435e-01,  9.9909e-01, -7.4903e-01,\n",
              "                                                         9.9701e-01,  9.4224e-01, -9.9072e-01,  8.5346e-01, -9.9907e-01,\n",
              "                                                        -7.6815e-02, -9.0299e-01,  4.4612e-01,  7.3821e-01, -6.3530e-01,\n",
              "                                                         1.2313e-01,  9.9212e-01, -8.6099e-01, -9.2415e-01,  8.2049e-01,\n",
              "                                                        -9.9964e-01,  8.8330e-01, -1.4654e-01,  9.9864e-01,  5.3081e-01,\n",
              "                                                         1.5514e-01,  9.7141e-01,  9.5587e-01, -9.8094e-01, -9.9957e-01,\n",
              "                                                         9.1343e-01,  3.3553e-01, -9.9119e-01, -2.2810e-01,  9.9987e-01,\n",
              "                                                        -9.9807e-01, -4.1150e-01, -9.1508e-01, -9.8910e-01, -9.9921e-01,\n",
              "                                                         2.4346e-01, -7.4660e-01,  2.5088e-01,  9.5471e-01,  3.9693e-01,\n",
              "                                                         2.2579e-01,  9.9126e-01,  9.5325e-01,  2.2649e-01, -3.8293e-01,\n",
              "                                                         2.3456e-02, -9.3982e-01, -6.6704e-01,  8.0797e-01,  1.9427e-01,\n",
              "                                                        -9.9990e-01,  9.9946e-01, -9.9323e-01,  8.3185e-01,  9.3085e-01,\n",
              "                                                        -9.9642e-01,  6.8943e-01,  6.0491e-02, -9.6720e-01,  9.6226e-03,\n",
              "                                                         9.9983e-01,  9.6382e-01, -6.5723e-02,  1.4295e-01,  8.8473e-01,\n",
              "                                                        -2.5552e-01,  7.4559e-01, -8.7434e-01, -5.8570e-01,  1.0575e-01,\n",
              "                                                        -8.9448e-01,  9.9450e-01,  8.1703e-01, -9.8673e-01,  9.9710e-01,\n",
              "                                                         8.4767e-02,  3.9563e-01, -8.1812e-01,  6.2802e-01,  9.7680e-01,\n",
              "                                                        -6.5597e-02, -6.3655e-01, -2.3349e-01,  1.5209e-01, -9.8478e-01,\n",
              "                                                        -3.4973e-03, -9.9791e-01, -4.7334e-01,  9.1072e-01,  9.8362e-01,\n",
              "                                                        -9.8471e-01,  9.2546e-01, -6.0227e-02,  9.4631e-01, -9.9819e-01,\n",
              "                                                         9.9994e-01, -9.8564e-01,  6.2825e-02,  7.1951e-01, -8.4292e-01,\n",
              "                                                        -5.9835e-01,  9.8383e-01,  9.9048e-01,  9.8273e-01, -9.7486e-01,\n",
              "                                                        -9.0895e-01,  6.4083e-01,  9.6574e-01, -9.6155e-01,  9.1203e-02,\n",
              "                                                        -9.9932e-01, -8.1012e-01,  9.8232e-01,  9.9813e-01,  2.9776e-02,\n",
              "                                                        -3.7129e-01, -9.9845e-01,  9.0999e-01, -8.8461e-01, -8.7936e-01,\n",
              "                                                        -9.4743e-02, -8.3514e-01,  8.4163e-01,  9.9862e-01, -7.0790e-01,\n",
              "                                                         7.2684e-01,  5.3086e-02, -9.6854e-01,  9.0990e-01,  8.8244e-01,\n",
              "                                                         9.9978e-01, -9.6528e-01,  6.7549e-01,  9.8498e-01, -2.2490e-01,\n",
              "                                                        -7.3921e-01,  5.1209e-01,  9.9959e-01, -9.3506e-01, -2.1268e-01,\n",
              "                                                        -9.9933e-01,  8.2130e-02, -6.5044e-01, -2.6917e-02, -6.7290e-01,\n",
              "                                                         9.1436e-02, -9.0653e-01,  9.7386e-01,  3.7987e-01,  6.3951e-01,\n",
              "                                                        -2.4065e-01,  9.1559e-01, -3.7534e-01,  5.5262e-02, -2.7380e-01,\n",
              "                                                        -4.4678e-01,  4.3716e-01,  2.1788e-01,  9.6618e-01, -9.0175e-01,\n",
              "                                                         9.9884e-01, -1.4800e-02, -9.9990e-01, -9.9697e-01, -7.9372e-01,\n",
              "                                                        -9.9758e-01,  6.2314e-01, -9.7237e-01,  9.8196e-01,  9.2948e-01,\n",
              "                                                        -9.9832e-01, -9.9918e-01, -9.8174e-01, -8.7748e-01,  7.2890e-01,\n",
              "                                                         5.5366e-01,  2.9272e-02,  2.7209e-01, -4.8154e-01,  4.1630e-02,\n",
              "                                                        -6.0195e-01, -2.2284e-02, -8.7598e-01, -5.9542e-01, -9.9805e-01,\n",
              "                                                         8.5146e-01, -9.9988e-01, -8.6957e-01,  9.9837e-01, -9.9791e-01,\n",
              "                                                        -9.4108e-01, -9.0626e-01, -7.9428e-01, -7.4861e-01,  3.5664e-01,\n",
              "                                                         9.6570e-01, -2.4571e-01, -7.3723e-01, -9.9663e-01,  9.6408e-01,\n",
              "                                                        -7.8744e-01,  1.5944e-01, -9.4134e-01, -9.5038e-01,  9.9922e-01,\n",
              "                                                         9.3679e-01, -9.3237e-02,  5.4593e-02, -9.9657e-01,  9.9040e-01,\n",
              "                                                        -9.5226e-01, -9.6185e-01, -9.6354e-01,  1.4209e-01, -7.7434e-01,\n",
              "                                                        -9.9949e-01,  4.8895e-02,  9.9704e-01,  9.6676e-01,  9.6836e-01,\n",
              "                                                        -3.3301e-04, -3.2403e-01, -9.3667e-01,  8.1088e-02, -9.9987e-01,\n",
              "                                                         8.8390e-01,  9.0674e-01, -9.4789e-01, -7.1546e-01,  9.8645e-01,\n",
              "                                                         9.6207e-01, -9.6653e-01, -9.8314e-01,  9.6588e-01,  3.4557e-01,\n",
              "                                                         8.4628e-01, -7.5548e-01, -3.8673e-01,  2.0918e-01, -1.3170e-01,\n",
              "                                                        -9.7837e-01, -8.6353e-01,  9.9591e-01, -9.9933e-01,  9.5624e-01,\n",
              "                                                         9.9584e-01,  9.9913e-01, -6.5745e-02,  3.0015e-01, -9.8410e-01,\n",
              "                                                        -8.6051e-01, -4.6915e-01,  3.0424e-01, -9.9984e-01,  9.9930e-01,\n",
              "                                                        -9.9990e-01,  6.2808e-01, -8.5593e-01,  8.7240e-01,  9.7614e-01,\n",
              "                                                        -3.6552e-01, -9.9980e-01, -9.9951e-01, -5.3301e-01, -7.4168e-03,\n",
              "                                                         9.8324e-01,  3.3687e-01,  4.1264e-02, -6.2992e-01, -5.3296e-01,\n",
              "                                                         9.9661e-01, -7.7232e-01, -8.8527e-01, -9.9814e-01,  9.9932e-01,\n",
              "                                                         5.7763e-01, -9.9848e-01,  9.9725e-01, -9.9839e-01,  9.3758e-01,\n",
              "                                                         9.5078e-01,  8.0500e-01,  9.2089e-01, -9.9895e-01,  9.9992e-01,\n",
              "                                                        -9.9927e-01,  9.6629e-01, -9.9993e-01, -9.9921e-01,  9.9956e-01,\n",
              "                                                        -9.7455e-01, -7.3517e-01, -9.9925e-01, -9.9840e-01,  6.1973e-01,\n",
              "                                                        -3.3940e-02, -4.2072e-01,  9.8817e-01, -9.9940e-01, -9.9747e-01,\n",
              "                                                        -4.2755e-01, -8.9164e-01, -8.9431e-01,  9.9649e-01, -7.1755e-01,\n",
              "                                                         9.8564e-01, -1.8930e-01,  8.8792e-01,  4.0209e-01,  9.9866e-01,\n",
              "                                                         9.4006e-01, -7.7735e-01, -8.8784e-01, -9.9216e-01,  9.3944e-01,\n",
              "                                                        -4.6354e-01,  2.8242e-01,  8.9276e-01, -4.7119e-02, -8.8482e-01,\n",
              "                                                         2.2455e-01, -9.9616e-01,  3.5897e-01,  4.7291e-01,  9.3189e-01,\n",
              "                                                         9.2976e-01,  8.0186e-01, -1.7424e-02, -5.2354e-01, -2.8026e-01,\n",
              "                                                        -9.8899e-01,  5.0787e-01, -9.9880e-01,  9.1173e-01, -9.4004e-01,\n",
              "                                                        -3.6855e-02, -3.8155e-01,  5.3143e-02, -9.0814e-01,  9.9890e-01,\n",
              "                                                         9.9746e-01, -8.5545e-01,  3.8056e-02,  9.7967e-01, -8.0834e-01,\n",
              "                                                         9.2792e-01, -9.8999e-01,  3.4247e-02,  9.7767e-01, -4.5257e-01,\n",
              "                                                         9.6471e-01,  1.9317e-01, -5.4611e-02,  9.6906e-01, -9.9441e-01,\n",
              "                                                        -9.0135e-01, -4.1245e-01,  4.4252e-01, -9.5118e-02, -9.6933e-01,\n",
              "                                                         8.4369e-02,  9.9105e-01, -5.2213e-01, -9.9938e-01,  9.1277e-01,\n",
              "                                                        -9.9911e-01, -7.2565e-02,  9.6975e-01,  3.5015e-01,  9.9981e-01,\n",
              "                                                        -8.2439e-01, -6.1311e-03,  6.4650e-02, -9.9965e-01, -9.9941e-01,\n",
              "                                                         3.6813e-02, -2.2800e-01, -9.4002e-01,  9.9919e-01, -3.7525e-01,\n",
              "                                                         7.9804e-01, -9.9926e-01,  2.2515e-01,  9.9733e-01,  2.8050e-01,\n",
              "                                                         5.4634e-01, -8.7582e-01, -8.5048e-01, -9.6448e-01, -2.6459e-01,\n",
              "                                                         9.9640e-03,  8.8847e-01, -9.8618e-01, -7.1642e-01, -9.1183e-01,\n",
              "                                                         9.9984e-01, -9.9810e-01, -7.6233e-01, -9.6450e-01,  6.8561e-01,\n",
              "                                                         7.5432e-01,  3.5629e-01,  8.4863e-03, -8.6984e-01,  9.6043e-01,\n",
              "                                                        -9.4162e-01,  9.9535e-01, -9.9474e-01, -9.9424e-01,  9.9971e-01,\n",
              "                                                         5.1233e-01, -9.9622e-01,  1.0639e-01, -4.2185e-01,  5.8528e-01,\n",
              "                                                        -1.3824e-02,  8.0380e-01, -8.0390e-01, -1.5892e-01, -9.7921e-01,\n",
              "                                                         7.3380e-01, -8.6423e-01, -9.7881e-01, -1.6458e-01, -2.7932e-01,\n",
              "                                                        -8.3519e-01,  9.9303e-01,  9.5154e-01,  9.9984e-01, -9.9953e-01,\n",
              "                                                         6.1659e-01, -2.1071e-02,  9.9855e-01,  3.6888e-02, -6.6366e-01,\n",
              "                                                         9.2554e-01,  9.9906e-01, -7.6794e-01,  7.9102e-01, -1.4818e-01,\n",
              "                                                        -9.3845e-02,  4.0709e-01, -6.6836e-01,  9.9841e-01, -9.4821e-01,\n",
              "                                                         2.9985e-01, -9.6125e-01, -9.9964e-01,  9.9976e-01, -5.4403e-02,\n",
              "                                                         9.8598e-01,  2.8285e-01,  8.1627e-01, -5.2362e-01,  9.8846e-01,\n",
              "                                                        -9.8650e-01, -7.1902e-01, -9.9991e-01,  1.0858e-01, -9.0453e-01,\n",
              "                                                        -9.8816e-01, -1.1754e-01,  9.7621e-01, -9.9934e-01, -9.7595e-01,\n",
              "                                                        -3.5875e-01, -9.9993e-01,  8.7991e-01, -9.9449e-01, -8.5747e-01,\n",
              "                                                        -9.8306e-01,  9.9771e-01, -1.1931e-01, -8.3100e-01,  9.6654e-01,\n",
              "                                                        -9.2932e-01,  9.6922e-01,  8.2974e-01, -7.1127e-01,  2.0463e-01,\n",
              "                                                         1.4590e-01, -7.3910e-01, -9.9453e-01, -9.3345e-01, -9.3317e-01,\n",
              "                                                         8.4262e-01, -9.8357e-01, -3.4475e-01,  9.9550e-01,  9.7753e-01,\n",
              "                                                        -9.9693e-01, -9.9397e-01,  9.9577e-01,  1.9369e-01,  9.8642e-01,\n",
              "                                                        -2.6438e-01, -9.9963e-01, -9.9984e-01,  9.9960e-03,  1.0430e-01,\n",
              "                                                         9.9491e-01, -3.0027e-01,  7.1389e-01,  3.8977e-01, -5.9988e-01,\n",
              "                                                         2.8211e-01, -7.6325e-01, -4.9693e-01, -7.0380e-01, -1.8878e-01,\n",
              "                                                         9.9990e-01, -8.5676e-01,  9.9122e-01]], grad_fn=<TanhBackward>))])"
            ]
          },
          "metadata": {
            "tags": []
          },
          "execution_count": 41
        }
      ]
    },
    {
      "cell_type": "code",
      "metadata": {
        "colab": {
          "base_uri": "https://localhost:8080/"
        },
        "id": "9DsZqXEYNHQ2",
        "outputId": "cdb91f62-24c4-4cf9-ceb0-d594d0717347"
      },
      "source": [
        "prediction.last_hidden_state.shape,prediction.pooler_output.shape"
      ],
      "execution_count": 42,
      "outputs": [
        {
          "output_type": "execute_result",
          "data": {
            "text/plain": [
              "(torch.Size([1, 128, 768]), torch.Size([1, 768]))"
            ]
          },
          "metadata": {
            "tags": []
          },
          "execution_count": 42
        }
      ]
    },
    {
      "cell_type": "code",
      "metadata": {
        "id": "DjFzGdZgNU3i"
      },
      "source": [
        "class ToxicCommentDataModule(pl.LightningDataModule):\r\n",
        "  def __init__(self, train_df, test_df, tokenizer, batch_size=8,max_token_len=128):\r\n",
        "    super().__init__()\r\n",
        "    self.train_df=train_df\r\n",
        "    self.test_df = test_df\r\n",
        "    self.tokenizer = tokenizer\r\n",
        "    self.batch_size =batch_size\r\n",
        "    self.max_token_len = max_token_len\r\n",
        "\r\n",
        "  def setup(self):\r\n",
        "    self.train_dataset = ToxicCommentDataset(\r\n",
        "        self.train_df,\r\n",
        "        self.tokenizer,\r\n",
        "        self.max_token_len\r\n",
        "    )\r\n",
        "    self.test_dataset = ToxicCommentDataset(\r\n",
        "      self.test_df,\r\n",
        "      self.tokenizer,\r\n",
        "      self.max_token_len\r\n",
        "    )\r\n",
        "  def train_dataloader(self):\r\n",
        "    return DataLoader(\r\n",
        "        self.train_dataset,\r\n",
        "        batch_size = self.batch_size,\r\n",
        "        shuffle = True,\r\n",
        "        num_workers = 4\r\n",
        "    )\r\n",
        "  def val_dataloader(self):\r\n",
        "    return DataLoader(\r\n",
        "        self.test_dataset,\r\n",
        "        batch_size = 1,\r\n",
        "        num_workers = 4\r\n",
        "    )\r\n",
        "  def test_dataloader(self):\r\n",
        "    return DataLoader(\r\n",
        "        self.test_dataset,\r\n",
        "        batch_size = 1,\r\n",
        "        num_workers = 4\r\n",
        "    )"
      ],
      "execution_count": 43,
      "outputs": []
    },
    {
      "cell_type": "code",
      "metadata": {
        "id": "TaYHLzDIVaCe"
      },
      "source": [
        "N_EPOCHS = 10\r\n",
        "BATCH_SIZE = 32\r\n",
        "data_module = ToxicCommentDataModule(train_df,val_df,tokenizer,batch_size=BATCH_SIZE)\r\n",
        "data_module.setup()\r\n"
      ],
      "execution_count": 55,
      "outputs": []
    },
    {
      "cell_type": "markdown",
      "metadata": {
        "id": "16Qk4I7wnUom"
      },
      "source": [
        "#Modeling"
      ]
    },
    {
      "cell_type": "code",
      "metadata": {
        "id": "_TttAQ5wYiNB"
      },
      "source": [
        "criterion = nn.BCELoss()\r\n",
        "prediction =torch.FloatTensor(\r\n",
        "    [10.95873564,1.07321467,1.58524066,0.03839076,15.72987556,2.09513213]\r\n",
        ")\r\n",
        "labels = torch.FloatTensor(\r\n",
        "    [1.,0.,0.,0.,1.,0.]\r\n",
        ")"
      ],
      "execution_count": 45,
      "outputs": []
    },
    {
      "cell_type": "code",
      "metadata": {
        "colab": {
          "base_uri": "https://localhost:8080/"
        },
        "id": "jgmIBrWdpCFs",
        "outputId": "9272cfeb-fcd5-408a-eec8-04dac4d47eca"
      },
      "source": [
        "torch.sigmoid(prediction)"
      ],
      "execution_count": 46,
      "outputs": [
        {
          "output_type": "execute_result",
          "data": {
            "text/plain": [
              "tensor([1.0000, 0.7452, 0.8299, 0.5096, 1.0000, 0.8904])"
            ]
          },
          "metadata": {
            "tags": []
          },
          "execution_count": 46
        }
      ]
    },
    {
      "cell_type": "code",
      "metadata": {
        "colab": {
          "base_uri": "https://localhost:8080/"
        },
        "id": "cAWC0u1gqI6w",
        "outputId": "1a108f25-ef4e-4e62-8c81-c861bbaaf25b"
      },
      "source": [
        "output = criterion(torch.sigmoid(prediction),labels)\r\n",
        "output"
      ],
      "execution_count": 47,
      "outputs": [
        {
          "output_type": "execute_result",
          "data": {
            "text/plain": [
              "tensor(1.0104)"
            ]
          },
          "metadata": {
            "tags": []
          },
          "execution_count": 47
        }
      ]
    },
    {
      "cell_type": "code",
      "metadata": {
        "id": "Smk5Nxp8q7Bm"
      },
      "source": [
        "class ToxicCommentTagger(pl.LightningModule):\r\n",
        "  def __init__(self,n_classes:int,steps_per_epoch=None,n_epochs=None):\r\n",
        "    super().__init__()\r\n",
        "    self.bert = BertModel.from_pretrained(BERT_MODEL_NAME, return_dict=True)\r\n",
        "    self.classifier = nn.Linear(self.bert.config.hidden_size,n_classes)\r\n",
        "    self.steps_per_epoch = steps_per_epoch\r\n",
        "    self.n_epochs = n_epochs\r\n",
        "    self.criterion = nn.BCELoss()\r\n",
        "  def forward(self,input_ids, attention_mask, labels=None):\r\n",
        "    output = self.bert(input_ids, attention_mask=attention_mask)\r\n",
        "    output = self.classifier(output.pooler_output)\r\n",
        "    output = torch.sigmoid(output)\r\n",
        "    loss = 0\r\n",
        "    if labels is not None:\r\n",
        "      loss = self.criterion(output, labels)\r\n",
        "    return loss, output\r\n",
        "  \r\n",
        "  def training_step(self, batch,batch_idx):\r\n",
        "    input_ids = batch['input_ids']\r\n",
        "    attention_mask =  batch['attention_mask']\r\n",
        "    labels = batch['labels']\r\n",
        "    loss, outputs = self(input_ids, attention_mask, labels)\r\n",
        "    self.log('train_loss', loss,prog_bar=True,logger=True)\r\n",
        "    return {'loss':loss, 'prediction': outputs,'labels':labels}\r\n",
        "  def validation_step(self, batch,batch_idx):\r\n",
        "    input_ids = batch['input_ids']\r\n",
        "    attention_mask =  batch['attention_mask']\r\n",
        "    labels = batch['labels']\r\n",
        "    loss, outputs = self(input_ids, attention_mask, labels)\r\n",
        "    self.log('val_loss', loss,prog_bar=True,logger=True)\r\n",
        "    return loss\r\n",
        "  def test_step(self, batch,batch_idx):\r\n",
        "    input_ids = batch['input_ids']\r\n",
        "    attention_mask =  batch['attention_mask']\r\n",
        "    labels = batch['labels']\r\n",
        "    loss, outputs = self(input_ids, attention_mask, labels)\r\n",
        "    self.log('test_loss', loss,prog_bar=True,logger=True)\r\n",
        "    return loss\r\n",
        "  def training_epoch_end(self, outputs):\r\n",
        "    labels = []\r\n",
        "    predictions = []\r\n",
        "\r\n",
        "    for output in outputs:\r\n",
        "      for out_labels in output['labels'].detach().cpu():\r\n",
        "        labels.append(out_labels)\r\n",
        "      for out_predictions in output['predictions'].detach().cpu():\r\n",
        "        predictions.append(out_predictions)\r\n",
        "    \r\n",
        "    labels = torch.stack(labels)\r\n",
        "    predictions =torch.stack(predictions)\r\n",
        "\r\n",
        "    for i, name in enumerate(LABEL_COLUMNS):\r\n",
        "      roc_score = auroc(predictions[:,i],labels[:,i])\r\n",
        "      self.logger.experiment.add_scalar(f\"{name} roc_auc/Train\",roc_score,self.current_epoch)\r\n",
        "\r\n",
        "  def configure_optimizers(self):\r\n",
        "    optimizer = AdamW(self.parameters(), lr=2e-5)\r\n",
        "    warmup_steps = self.steps_per_epoch // 3\r\n",
        "    total_steps = self.steps_per_epoch * self.n_epochs - warmup_steps\r\n",
        "\r\n",
        "    scheduler = get_linear_schedule_with_warmup(\r\n",
        "      optimizer,\r\n",
        "      warmup_steps,\r\n",
        "      total_steps\r\n",
        "    )\r\n",
        "\r\n",
        "    return [optimizer], [scheduler]"
      ],
      "execution_count": 78,
      "outputs": []
    },
    {
      "cell_type": "code",
      "metadata": {
        "id": "R1B5hAkgvJCO"
      },
      "source": [
        "model = ToxicCommentTagger(\r\n",
        "    n_classes=6,\r\n",
        "    steps_per_epoch = len(train_df) // BATCH_SIZE,\r\n",
        "    n_epochs=N_EPOCHS\r\n",
        ")"
      ],
      "execution_count": 79,
      "outputs": []
    },
    {
      "cell_type": "code",
      "metadata": {
        "id": "qqegaEK3vJHz"
      },
      "source": [
        "_, predictions = model(sample_item['input_ids'].unsqueeze(dim=0),sample_item['attention_mask'].unsqueeze(dim=0))"
      ],
      "execution_count": 80,
      "outputs": []
    },
    {
      "cell_type": "code",
      "metadata": {
        "colab": {
          "base_uri": "https://localhost:8080/"
        },
        "id": "4bSDlTHbx-VY",
        "outputId": "13c36830-d81e-475d-a95d-64499c6d1f5d"
      },
      "source": [
        "predictions"
      ],
      "execution_count": 81,
      "outputs": [
        {
          "output_type": "execute_result",
          "data": {
            "text/plain": [
              "tensor([[0.5535, 0.4485, 0.4944, 0.3304, 0.4561, 0.5499]],\n",
              "       grad_fn=<SigmoidBackward>)"
            ]
          },
          "metadata": {
            "tags": []
          },
          "execution_count": 81
        }
      ]
    },
    {
      "cell_type": "code",
      "metadata": {
        "colab": {
          "base_uri": "https://localhost:8080/"
        },
        "id": "qtHk5xtXx-QB",
        "outputId": "988c8a8e-631f-4c72-bc10-758e6746a7b1"
      },
      "source": [
        "trainer = pl.Trainer(max_epochs=N_EPOCHS,gpus=1,progress_bar_refresh_rate=30)"
      ],
      "execution_count": 82,
      "outputs": [
        {
          "output_type": "stream",
          "text": [
            "GPU available: True, used: True\n",
            "TPU available: None, using: 0 TPU cores\n"
          ],
          "name": "stderr"
        }
      ]
    },
    {
      "cell_type": "code",
      "metadata": {
        "id": "sWQ45rCu0YcJ"
      },
      "source": [
        "trainer.fit(model,data_module)"
      ],
      "execution_count": null,
      "outputs": []
    },
    {
      "cell_type": "code",
      "metadata": {
        "id": "Bj-CQOM60YLn"
      },
      "source": [
        "trained_model = ToxicCommentTagger.load_from_checkpoint('toxic-comment-classifier.ckpt',n_classes=6)"
      ],
      "execution_count": null,
      "outputs": []
    },
    {
      "cell_type": "code",
      "metadata": {
        "id": "-8DH8xMa0YEI"
      },
      "source": [
        "test_comment = ' I really love you, You are a complete winner. stay with me'"
      ],
      "execution_count": null,
      "outputs": []
    },
    {
      "cell_type": "code",
      "metadata": {
        "id": "3ca4pipo0X8p"
      },
      "source": [
        "encoding = tokenizer.encode_plus(\r\n",
        "    test_comment,\r\n",
        "    add_special_tokens=True,\r\n",
        "    max_length=128,\r\n",
        "    return_token_type_ids = False,\r\n",
        "    padding = 'max_length',\r\n",
        "    return_attention_mask=True,\r\n",
        "    return_tensors = 'pt'\r\n",
        ")"
      ],
      "execution_count": 90,
      "outputs": []
    },
    {
      "cell_type": "code",
      "metadata": {
        "id": "fK6ouA6z7Omh"
      },
      "source": [
        "_, test_prediction = trained_model(encoding['inputs_ids'],encoding['attentio+n_mask'])\r\n",
        "test_prediction"
      ],
      "execution_count": null,
      "outputs": []
    },
    {
      "cell_type": "code",
      "metadata": {
        "id": "8fpciXxL8Se8"
      },
      "source": [
        "test_prediction  = test_predtion.flatten().numpy()\r\n",
        "test_prediction"
      ],
      "execution_count": null,
      "outputs": []
    },
    {
      "cell_type": "code",
      "metadata": {
        "id": "iOOoyBix-4rN"
      },
      "source": [
        "predicted_labels = []\r\n",
        "for i, label_name in enumerate(LABEL_COLUMNS):\r\n",
        "  label_probability =  test_prediction[i]\r\n",
        "  if label_probability > 0.5:\r\n",
        "    predicted_labels.append(label_name)\r\n",
        "predicted_labels"
      ],
      "execution_count": null,
      "outputs": []
    },
    {
      "cell_type": "code",
      "metadata": {
        "id": "WEpsBk3u_abp"
      },
      "source": [
        "def classify(comment_text, model, tokenizer, label_names, threshold=0.5):\r\n",
        "  encoding = tokenizer.encode_plus(\r\n",
        "    test_comment,\r\n",
        "    add_special_tokens=True,\r\n",
        "    max_length=128,\r\n",
        "    return_token_type_ids = False,\r\n",
        "    padding = 'max_length',\r\n",
        "    return_attention_mask=True,\r\n",
        "    return_tensors = 'pt'\r\n",
        "  )\r\n",
        "  _, prediction = model(encoding['inputs_ids'],encoding['attentio+n_mask'])\r\n",
        "  prediction = prediction.flatten().numpy()\r\n",
        "  predicted_labels =[]\r\n",
        "  for i, label_name in enumerate(label_names):\r\n",
        "    label_probability = prediction[i]\r\n",
        "    if label_probability > threshold:\r\n",
        "      predicted_labels.append(label_name)\r\n",
        "  \r\n",
        "  return predicted_labels"
      ],
      "execution_count": null,
      "outputs": []
    },
    {
      "cell_type": "code",
      "metadata": {
        "id": "LWAQq9FABQls"
      },
      "source": [
        "text = \"You are such a loser! You'll regret everything you did to me\"\r\n",
        "classify(text, trained_model, tokenizer, LABEL_COLUMNS)"
      ],
      "execution_count": null,
      "outputs": []
    },
    {
      "cell_type": "code",
      "metadata": {
        "id": "XdPoNRcPCN3S"
      },
      "source": [
        "text = \"Hi, I'm Meredith and I'm an alch.. good at supplier relations\"\r\n",
        "classify(text, trained_model, tokenizer, LABEL_COLUMNS)"
      ],
      "execution_count": null,
      "outputs": []
    }
  ]
}